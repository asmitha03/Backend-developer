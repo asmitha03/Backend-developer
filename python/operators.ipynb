{
  "metadata": {
    "kernelspec": {
      "name": "python",
      "display_name": "Python (Pyodide)",
      "language": "python"
    },
    "language_info": {
      "codemirror_mode": {
        "name": "python",
        "version": 3
      },
      "file_extension": ".py",
      "mimetype": "text/x-python",
      "name": "python",
      "nbconvert_exporter": "python",
      "pygments_lexer": "ipython3",
      "version": "3.8"
    }
  },
  "nbformat_minor": 5,
  "nbformat": 4,
  "cells": [
    {
      "id": "1700c15a-84be-4a59-8faa-9188594230fe",
      "cell_type": "code",
      "source": "#Operators\n# 1.Arithemetic Operator\na=10\nb=10\nprint(\"Addition =\",a+b)\nprint(\"Substraction =\",a-b)\nprint(\"Multiplication =\",a*b)\nprint(\"Division =\",a/b)\nprint(\"Modulus =\",a%b)\nprint(\"Floor Division =\",a//b)\nprint(\"Exponential =\",a**b)\n      ",
      "metadata": {
        "trusted": true
      },
      "outputs": [
        {
          "name": "stdout",
          "output_type": "stream",
          "text": "Addition = 20\nSubstraction = 0\nMultiplication = 100\nDivision = 1.0\nModulus = 0\nFloor Division = 1\nExponential = 10000000000\n"
        }
      ],
      "execution_count": 5
    },
    {
      "id": "24623e4d-6239-4cb7-a21d-6026964e0db4",
      "cell_type": "code",
      "source": "#2.Assignment Operator\na=10\nprint(\"Initial value of s:\",s)\nprint(\"after s +=  10:\",a)\nprint(\"after s -= 10:\",s)\nprint(\"after s /= 10:\",s)\nprint(\"after s %= 10:\",s)\nprint(\"after s **= 10:\",s)\nprint(\"after s //= 15:\",s)\n",
      "metadata": {
        "trusted": true
      },
      "outputs": [
        {
          "name": "stdout",
          "output_type": "stream",
          "text": "Initial value of s: 10\nafter s +=  10: 10\nafter s -= 10: 10\nafter s /= 10: 10\nafter s %= 10: 10\nafter s **= 10: 10\nafter s //= 15: 10\n"
        }
      ],
      "execution_count": 19
    },
    {
      "id": "f949c69c-16a9-4eca-9a88-dce9244a4125",
      "cell_type": "code",
      "source": "#Comparison Operator\ne=\"asmi\"\nf=\"abi\"\nprint(\"e==f:\",e==b)  #equal to \nprint(\"e!=f:\",e!=f)  #not equal to \n\nw=10\nr=20\nprint(\"w>=r:\",w>=r) \nprint(\"w<=r:\",w<=r)\nprint(\"w>r:\",w>r)\nprint(\"w<r:\",w>r)",
      "metadata": {
        "trusted": true
      },
      "outputs": [
        {
          "name": "stdout",
          "output_type": "stream",
          "text": "e==f: False\ne!=f: True\nw>=r: False\nw<=r: True\nw>r: False\nw<r: False\n"
        }
      ],
      "execution_count": 22
    },
    {
      "id": "4bcc4757-0556-486f-8fc2-713b7c5627b1",
      "cell_type": "code",
      "source": "#Logical Operators\n# and,or,not\na=\"asmi\"\nb=\"asmi\"\nprint(\"a==b and b==a:\",a==b and b==a)\nprint(\"a==b or b!=a:\",a==b or b!=a)\nprint(\"not(b==a):\",not(b!=a))",
      "metadata": {
        "trusted": true
      },
      "outputs": [
        {
          "name": "stdout",
          "output_type": "stream",
          "text": "a==b and b==a: True\na==b or b!=a: True\nnot(b==a): True\n"
        }
      ],
      "execution_count": 26
    },
    {
      "id": "db60271a-09f6-450d-8756-03e535090a08",
      "cell_type": "code",
      "source": "#Membership Operator(in,not in)\na=\"I am asmitha\"\nprint(\" 'asmitha' in a:\",'asmitha' in a)\nprint(\" 'I' not in a:\",'I' not in a)",
      "metadata": {
        "trusted": true
      },
      "outputs": [
        {
          "name": "stdout",
          "output_type": "stream",
          "text": " 'asmitha' in a: True\n 'I' not in a: False\n"
        }
      ],
      "execution_count": 31
    },
    {
      "id": "7d3d6046-15ef-46a5-82be-474f4f132383",
      "cell_type": "code",
      "source": "#Identity (is,is not)\na=[45,89,90]\nb=[453,908,67]\nc=[45,89,90]\nprint(\"a is b:\",a is b)\nprint(\" a is not c:\",a is not c)",
      "metadata": {
        "trusted": true
      },
      "outputs": [
        {
          "name": "stdout",
          "output_type": "stream",
          "text": "a is b: False\n a is not c: True\n"
        }
      ],
      "execution_count": 34
    },
    {
      "id": "1f148b85-df2c-42a3-a9ec-a96608114564",
      "cell_type": "code",
      "source": "c=23\nm=20\nprint(\"c&m =\",c&m)\nprint(\"c|m =\",c|m)\nprint(\"c^m =\",c^m)\nprint(\"c>>1 =\",c>>m)\nprint(\"c<<1 =\",c<<m)\nprint(\"~c =\",~c)",
      "metadata": {
        "trusted": true
      },
      "outputs": [
        {
          "name": "stdout",
          "output_type": "stream",
          "text": "c&m = 20\nc|m = 23\nc^m = 3\nc>>1 = 0\nc<<1 = 24117248\n~c = -24\n"
        }
      ],
      "execution_count": 38
    },
    {
      "id": "1bdaa71f-1651-4309-a3e1-597ab9dc86b4",
      "cell_type": "code",
      "source": "",
      "metadata": {
        "trusted": true
      },
      "outputs": [],
      "execution_count": null
    }
  ]
}