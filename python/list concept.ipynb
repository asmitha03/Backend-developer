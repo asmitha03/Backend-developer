{
  "cells": [
    {
      "cell_type": "code",
      "execution_count": null,
      "id": "eada7d0c-3877-4f71-9361-54acb6af7a9d",
      "metadata": {
        "trusted": true
      },
      "outputs": [
        {
          "name": "stdout",
          "output_type": "stream",
          "text": [
            "['asmi', 'harshu', 'varshu']\n",
            "[3, 90, 78, 56]\n"
          ]
        }
      ],
      "source": [
        "#list concept\n",
        "\n",
        "list1=[\"asmi\",\"harshu\",\"varshu\"]\n",
        "list2=[3,90,78,56]\n",
        "print(list1)\n",
        "print(list2)"
      ]
    },
    {
      "cell_type": "code",
      "execution_count": null,
      "id": "26bb9d59",
      "metadata": {},
      "outputs": [],
      "source": []
    },
    {
      "cell_type": "code",
      "execution_count": null,
      "id": "d83878e8-dc9c-461b-95e3-1cf913ea6439",
      "metadata": {
        "trusted": true
      },
      "outputs": [
        {
          "name": "stdout",
          "output_type": "stream",
          "text": [
            "<class 'list'>\n"
          ]
        }
      ],
      "source": [
        "#type()\n",
        "\n",
        "list3=[\"car\",\"lorry\",\"mango\"]\n",
        "print(type(list3))"
      ]
    },
    {
      "cell_type": "code",
      "execution_count": null,
      "id": "f49e24b8-35da-49f7-a511-343b59f6f972",
      "metadata": {
        "trusted": true
      },
      "outputs": [
        {
          "name": "stdout",
          "output_type": "stream",
          "text": [
            "gokul\n",
            "rahul\n",
            "['rahul']\n",
            "['gokul', 'aziz', 'irshat', 'rahul']\n",
            "['gokul', 'aziz']\n",
            "['irshat']\n"
          ]
        }
      ],
      "source": [
        "#accessing elements with indexing\n",
        "\n",
        "list4=[\"gokul\",\"aziz\",\"irshat\",\"rahul\"]\n",
        "print(list4[0])\n",
        "\n",
        "#accessing element with negative\n",
        "print(list4[-1])\n",
        "\n",
        "#slice indexing\n",
        "print(list4[3:])\n",
        "print(list4[:])\n",
        "print(list4[:2]\n",
        "print(list4[2:3])"
      ]
    },
    {
      "cell_type": "code",
      "execution_count": null,
      "id": "4355fc93-7929-44fe-80bb-89d5e82f6ded",
      "metadata": {
        "trusted": true
      },
      "outputs": [
        {
          "name": "stdout",
          "output_type": "stream",
          "text": [
            "['dog', 'rat', 'cat', 'lion', 'tiger']\n",
            "['gokul', 'asmi', 'harshu', 'varshini']\n"
          ]
        }
      ],
      "source": [
        "#list method\n",
        "#1.append()\n",
        "anima=[\"dog\",\"rat\",\"cat\",\"lion\"]\n",
        "anima.append(\"tiger\")\n",
        "print(anima)\n",
        "\n",
        "#2.insert()\n",
        "name=[\"asmi\",\"harshu\",\"varshini\"]\n",
        "pos=(name.index(\"asmi\"))\n",
        "name.insert(pos,\"keerthana\")\n",
        "print(name)\n",
        "\n"
      ]
    },
    {
      "cell_type": "code",
      "execution_count": null,
      "id": "c3757679-653f-4ada-a916-9ac10bc68a40",
      "metadata": {
        "trusted": true
      },
      "outputs": [
        {
          "name": "stdout",
          "output_type": "stream",
          "text": [
            "['asmi', 'gokul', 'harshu', 'varshini']\n",
            "[1, 2, 3, 5, 6]\n",
            "['lion', 'tiger', 'elephant', 'peacock', 'owl', 'lid']\n"
          ]
        }
      ],
      "source": [
        "name=[\"asmi\",\"harshu\",\"varshini\"]\n",
        "pos=(name.index(\"asmi\"))\n",
        "name.insert(pos + 1,\"gokul\")\n",
        "print(name)\n",
        "num1=[1,2,3,6]\n",
        "num1.insert(3,5)\n",
        "print(num1)\n",
        "\n",
        "#3.extend()\n",
        "birds=[\"peacock\",\"owl\",\"lid\"]\n",
        "animal=[\"lion\",\"tiger\",\"elephant\"]\n",
        "animal.extend(birds)\n",
        "print(animal)"
      ]
    },
    {
      "cell_type": "code",
      "execution_count": null,
      "id": "ce11eb59-b4f4-4c9e-bfe2-014943b4995f",
      "metadata": {
        "trusted": true
      },
      "outputs": [
        {
          "name": "stdout",
          "output_type": "stream",
          "text": [
            "['peacock', 'owl', 'lid', 'lion', 'tiger', 'elephant']\n",
            "0\n",
            "it is found\n",
            "3\n",
            "['pine', 'neem', 'star']\n",
            "[2, 2, 45, 67, 89]\n",
            "['apple', 'argano', 'banan', 'blueberry', 'orange']\n",
            "['app', 'cat', 'war']\n",
            "[0, 8, 7, 5, 3, 1]\n"
          ]
        }
      ],
      "source": [
        "bird=[\"peacock\",\"owl\",\"lid\"]\n",
        "anim=[\"lion\",\"tiger\",\"elephant\"]\n",
        "bird += anim\n",
        "print(bird)\n",
        "\n",
        "#4.index()\n",
        "colour=[\"red\",\"green\",\"blue\",\"orange\"]\n",
        "print(colour.index(\"red\"))\n",
        "if \"orange\" in colour:\n",
        "    print (\"it is found\")\n",
        "else:\n",
        "   print(\"not found\")\n",
        "nu=[2,5,6,3,4]\n",
        "print(nu.index(3))\n",
        "\n",
        "#5.remove()\n",
        "tree=[\"pine\",\"mango\",\"neem\",\"star\"]\n",
        "tree.remove(\"mango\")\n",
        "print(tree)\n",
        "\n",
        "#6.sort()\n",
        "a=[2,89,67,2,45]\n",
        "a.sort()\n",
        "print(a)\n",
        "l=[\"apple\",\"banan\",\"orange\",\"argano\",\"blueberry\"]\n",
        "l.sort()\n",
        "print(l)\n",
        "\n",
        "#7.reverse()\n",
        "b=[\"war\",\"cat\",\"app\"]\n",
        "b.reverse()\n",
        "print(b)\n",
        "c=[1,3,5,7,8,0]\n",
        "c.reverse()\n",
        "print(c)\n",
        "\n",
        "\n"
      ]
    },
    {
      "cell_type": "code",
      "execution_count": null,
      "id": "8b06b866-f995-4129-9cb2-d2e612f71958",
      "metadata": {
        "trusted": true
      },
      "outputs": [],
      "source": []
    }
  ],
  "metadata": {
    "kernelspec": {
      "display_name": "Python (Pyodide)",
      "language": "python",
      "name": "python"
    },
    "language_info": {
      "codemirror_mode": {
        "name": "python",
        "version": 3
      },
      "file_extension": ".py",
      "mimetype": "text/x-python",
      "name": "python",
      "nbconvert_exporter": "python",
      "pygments_lexer": "ipython3",
      "version": "3.8"
    }
  },
  "nbformat": 4,
  "nbformat_minor": 5
}
